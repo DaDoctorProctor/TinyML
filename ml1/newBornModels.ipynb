{
 "cells": [
  {
   "cell_type": "code",
   "execution_count": 1,
   "id": "7583496f",
   "metadata": {},
   "outputs": [],
   "source": [
    "import sklearn\n",
    "from sklearn import datasets\n",
    "from sklearn import svm\n",
    "from sklearn import metrics"
   ]
  },
  {
   "cell_type": "code",
   "execution_count": 2,
   "id": "75cb1327",
   "metadata": {},
   "outputs": [],
   "source": [
    "cancer = datasets.load_breast_cancer()"
   ]
  },
  {
   "cell_type": "code",
   "execution_count": 3,
   "id": "03f1293f",
   "metadata": {},
   "outputs": [
    {
     "name": "stdout",
     "output_type": "stream",
     "text": [
      "['mean radius' 'mean texture' 'mean perimeter' 'mean area'\n",
      " 'mean smoothness' 'mean compactness' 'mean concavity'\n",
      " 'mean concave points' 'mean symmetry' 'mean fractal dimension'\n",
      " 'radius error' 'texture error' 'perimeter error' 'area error'\n",
      " 'smoothness error' 'compactness error' 'concavity error'\n",
      " 'concave points error' 'symmetry error' 'fractal dimension error'\n",
      " 'worst radius' 'worst texture' 'worst perimeter' 'worst area'\n",
      " 'worst smoothness' 'worst compactness' 'worst concavity'\n",
      " 'worst concave points' 'worst symmetry' 'worst fractal dimension']\n"
     ]
    }
   ],
   "source": [
    "print(cancer.feature_names)"
   ]
  },
  {
   "cell_type": "code",
   "execution_count": 4,
   "id": "fbaa6b5b",
   "metadata": {},
   "outputs": [
    {
     "name": "stdout",
     "output_type": "stream",
     "text": [
      "['malignant' 'benign']\n"
     ]
    }
   ],
   "source": [
    "print(cancer.target_names)"
   ]
  },
  {
   "cell_type": "code",
   "execution_count": 5,
   "id": "d514ffc2",
   "metadata": {},
   "outputs": [],
   "source": [
    "x = cancer.data"
   ]
  },
  {
   "cell_type": "code",
   "execution_count": 6,
   "id": "b71af742",
   "metadata": {},
   "outputs": [],
   "source": [
    "y = cancer.target"
   ]
  },
  {
   "cell_type": "code",
   "execution_count": 7,
   "id": "23716d39",
   "metadata": {},
   "outputs": [],
   "source": [
    "x_train, x_test, y_train, y_test = sklearn.model_selection.train_test_split(x,y,test_size=0.2)"
   ]
  },
  {
   "cell_type": "code",
   "execution_count": 8,
   "id": "62384abf",
   "metadata": {},
   "outputs": [],
   "source": [
    "classes = ['malignant','benign']"
   ]
  },
  {
   "cell_type": "code",
   "execution_count": 9,
   "id": "b79618e7",
   "metadata": {},
   "outputs": [
    {
     "data": {
      "text/html": [
       "<style>#sk-container-id-1 {color: black;background-color: white;}#sk-container-id-1 pre{padding: 0;}#sk-container-id-1 div.sk-toggleable {background-color: white;}#sk-container-id-1 label.sk-toggleable__label {cursor: pointer;display: block;width: 100%;margin-bottom: 0;padding: 0.3em;box-sizing: border-box;text-align: center;}#sk-container-id-1 label.sk-toggleable__label-arrow:before {content: \"▸\";float: left;margin-right: 0.25em;color: #696969;}#sk-container-id-1 label.sk-toggleable__label-arrow:hover:before {color: black;}#sk-container-id-1 div.sk-estimator:hover label.sk-toggleable__label-arrow:before {color: black;}#sk-container-id-1 div.sk-toggleable__content {max-height: 0;max-width: 0;overflow: hidden;text-align: left;background-color: #f0f8ff;}#sk-container-id-1 div.sk-toggleable__content pre {margin: 0.2em;color: black;border-radius: 0.25em;background-color: #f0f8ff;}#sk-container-id-1 input.sk-toggleable__control:checked~div.sk-toggleable__content {max-height: 200px;max-width: 100%;overflow: auto;}#sk-container-id-1 input.sk-toggleable__control:checked~label.sk-toggleable__label-arrow:before {content: \"▾\";}#sk-container-id-1 div.sk-estimator input.sk-toggleable__control:checked~label.sk-toggleable__label {background-color: #d4ebff;}#sk-container-id-1 div.sk-label input.sk-toggleable__control:checked~label.sk-toggleable__label {background-color: #d4ebff;}#sk-container-id-1 input.sk-hidden--visually {border: 0;clip: rect(1px 1px 1px 1px);clip: rect(1px, 1px, 1px, 1px);height: 1px;margin: -1px;overflow: hidden;padding: 0;position: absolute;width: 1px;}#sk-container-id-1 div.sk-estimator {font-family: monospace;background-color: #f0f8ff;border: 1px dotted black;border-radius: 0.25em;box-sizing: border-box;margin-bottom: 0.5em;}#sk-container-id-1 div.sk-estimator:hover {background-color: #d4ebff;}#sk-container-id-1 div.sk-parallel-item::after {content: \"\";width: 100%;border-bottom: 1px solid gray;flex-grow: 1;}#sk-container-id-1 div.sk-label:hover label.sk-toggleable__label {background-color: #d4ebff;}#sk-container-id-1 div.sk-serial::before {content: \"\";position: absolute;border-left: 1px solid gray;box-sizing: border-box;top: 0;bottom: 0;left: 50%;z-index: 0;}#sk-container-id-1 div.sk-serial {display: flex;flex-direction: column;align-items: center;background-color: white;padding-right: 0.2em;padding-left: 0.2em;position: relative;}#sk-container-id-1 div.sk-item {position: relative;z-index: 1;}#sk-container-id-1 div.sk-parallel {display: flex;align-items: stretch;justify-content: center;background-color: white;position: relative;}#sk-container-id-1 div.sk-item::before, #sk-container-id-1 div.sk-parallel-item::before {content: \"\";position: absolute;border-left: 1px solid gray;box-sizing: border-box;top: 0;bottom: 0;left: 50%;z-index: -1;}#sk-container-id-1 div.sk-parallel-item {display: flex;flex-direction: column;z-index: 1;position: relative;background-color: white;}#sk-container-id-1 div.sk-parallel-item:first-child::after {align-self: flex-end;width: 50%;}#sk-container-id-1 div.sk-parallel-item:last-child::after {align-self: flex-start;width: 50%;}#sk-container-id-1 div.sk-parallel-item:only-child::after {width: 0;}#sk-container-id-1 div.sk-dashed-wrapped {border: 1px dashed gray;margin: 0 0.4em 0.5em 0.4em;box-sizing: border-box;padding-bottom: 0.4em;background-color: white;}#sk-container-id-1 div.sk-label label {font-family: monospace;font-weight: bold;display: inline-block;line-height: 1.2em;}#sk-container-id-1 div.sk-label-container {text-align: center;}#sk-container-id-1 div.sk-container {/* jupyter's `normalize.less` sets `[hidden] { display: none; }` but bootstrap.min.css set `[hidden] { display: none !important; }` so we also need the `!important` here to be able to override the default hidden behavior on the sphinx rendered scikit-learn.org. See: https://github.com/scikit-learn/scikit-learn/issues/21755 */display: inline-block !important;position: relative;}#sk-container-id-1 div.sk-text-repr-fallback {display: none;}</style><div id=\"sk-container-id-1\" class=\"sk-top-container\"><div class=\"sk-text-repr-fallback\"><pre>SVC(kernel=&#x27;linear&#x27;)</pre><b>In a Jupyter environment, please rerun this cell to show the HTML representation or trust the notebook. <br />On GitHub, the HTML representation is unable to render, please try loading this page with nbviewer.org.</b></div><div class=\"sk-container\" hidden><div class=\"sk-item\"><div class=\"sk-estimator sk-toggleable\"><input class=\"sk-toggleable__control sk-hidden--visually\" id=\"sk-estimator-id-1\" type=\"checkbox\" checked><label for=\"sk-estimator-id-1\" class=\"sk-toggleable__label sk-toggleable__label-arrow\">SVC</label><div class=\"sk-toggleable__content\"><pre>SVC(kernel=&#x27;linear&#x27;)</pre></div></div></div></div></div>"
      ],
      "text/plain": [
       "SVC(kernel='linear')"
      ]
     },
     "execution_count": 9,
     "metadata": {},
     "output_type": "execute_result"
    }
   ],
   "source": [
    "clf = svm.SVC(kernel='linear')\n",
    "clf.fit(x_train,y_train)"
   ]
  },
  {
   "cell_type": "code",
   "execution_count": 10,
   "id": "9e42ea80",
   "metadata": {},
   "outputs": [],
   "source": [
    "y_pred = clf.predict(x_test)"
   ]
  },
  {
   "cell_type": "code",
   "execution_count": 11,
   "id": "beb81cde",
   "metadata": {},
   "outputs": [
    {
     "name": "stdout",
     "output_type": "stream",
     "text": [
      "0.9122807017543859\n"
     ]
    }
   ],
   "source": [
    "acc = metrics.accuracy_score(y_test,y_pred)\n",
    "print(acc)"
   ]
  },
  {
   "cell_type": "markdown",
   "id": "3cefac00",
   "metadata": {},
   "source": [
    "# Lets begin"
   ]
  },
  {
   "cell_type": "markdown",
   "id": "563ca44d",
   "metadata": {},
   "source": [
    "1. Preterm Infant Cardio-Respiratory Signals Database: https://physionet.org/content/picsdb/1.0.0/\n",
    ": The Preterm Infant Cardio-respiratory Signals (PICS) database contains simultaneous ECG and respiration recordings of ten preterm infants collected from the Neonatal Intensive Care Unit (NICU) of the University of Massachusetts Memorial Healthcare.\n",
    "\n",
    "Status: Problem with reading file\n",
    "\n",
    "2. ECG Heartbeat Categorization Dataset: https://www.kaggle.com/datasets/shayanfazeli/heartbeat\n",
    ": This dataset is composed of two collections of heartbeat signals derived from two famous datasets in heartbeat classification, the MIT-BIH Arrhythmia Dataset and The PTB Diagnostic ECG Database. The number of samples in both collections is large enough for training a deep neural network."
   ]
  },
  {
   "cell_type": "code",
   "execution_count": 12,
   "id": "5a93894c",
   "metadata": {},
   "outputs": [],
   "source": [
    "import pandas as pd"
   ]
  },
  {
   "cell_type": "code",
   "execution_count": 13,
   "id": "ec54731a",
   "metadata": {},
   "outputs": [],
   "source": [
    "mit_test_data = pd.read_csv('dataset-2/mitbih_test.csv', header=None)\n",
    "mit_train_data = pd.read_csv('dataset-2/mitbih_train.csv', header=None)"
   ]
  },
  {
   "cell_type": "code",
   "execution_count": 14,
   "id": "b9ec8ab5",
   "metadata": {},
   "outputs": [
    {
     "name": "stdout",
     "output_type": "stream",
     "text": [
      "(87554, 188)\n",
      "(21892, 188)\n"
     ]
    }
   ],
   "source": [
    "print(mit_train_data.shape)\n",
    "print(mit_test_data.shape)"
   ]
  },
  {
   "cell_type": "code",
   "execution_count": 15,
   "id": "a6690379",
   "metadata": {},
   "outputs": [
    {
     "data": {
      "text/html": [
       "<div>\n",
       "<style scoped>\n",
       "    .dataframe tbody tr th:only-of-type {\n",
       "        vertical-align: middle;\n",
       "    }\n",
       "\n",
       "    .dataframe tbody tr th {\n",
       "        vertical-align: top;\n",
       "    }\n",
       "\n",
       "    .dataframe thead th {\n",
       "        text-align: right;\n",
       "    }\n",
       "</style>\n",
       "<table border=\"1\" class=\"dataframe\">\n",
       "  <thead>\n",
       "    <tr style=\"text-align: right;\">\n",
       "      <th></th>\n",
       "      <th>0</th>\n",
       "      <th>1</th>\n",
       "      <th>2</th>\n",
       "      <th>3</th>\n",
       "      <th>4</th>\n",
       "      <th>5</th>\n",
       "      <th>6</th>\n",
       "      <th>7</th>\n",
       "      <th>8</th>\n",
       "      <th>9</th>\n",
       "      <th>...</th>\n",
       "      <th>178</th>\n",
       "      <th>179</th>\n",
       "      <th>180</th>\n",
       "      <th>181</th>\n",
       "      <th>182</th>\n",
       "      <th>183</th>\n",
       "      <th>184</th>\n",
       "      <th>185</th>\n",
       "      <th>186</th>\n",
       "      <th>187</th>\n",
       "    </tr>\n",
       "  </thead>\n",
       "  <tbody>\n",
       "    <tr>\n",
       "      <th>0</th>\n",
       "      <td>0.977941</td>\n",
       "      <td>0.926471</td>\n",
       "      <td>0.681373</td>\n",
       "      <td>0.245098</td>\n",
       "      <td>0.154412</td>\n",
       "      <td>0.191176</td>\n",
       "      <td>0.151961</td>\n",
       "      <td>0.085784</td>\n",
       "      <td>0.058824</td>\n",
       "      <td>0.049020</td>\n",
       "      <td>...</td>\n",
       "      <td>0.0</td>\n",
       "      <td>0.0</td>\n",
       "      <td>0.0</td>\n",
       "      <td>0.0</td>\n",
       "      <td>0.0</td>\n",
       "      <td>0.0</td>\n",
       "      <td>0.0</td>\n",
       "      <td>0.0</td>\n",
       "      <td>0.0</td>\n",
       "      <td>0.0</td>\n",
       "    </tr>\n",
       "    <tr>\n",
       "      <th>1</th>\n",
       "      <td>0.960114</td>\n",
       "      <td>0.863248</td>\n",
       "      <td>0.461538</td>\n",
       "      <td>0.196581</td>\n",
       "      <td>0.094017</td>\n",
       "      <td>0.125356</td>\n",
       "      <td>0.099715</td>\n",
       "      <td>0.088319</td>\n",
       "      <td>0.074074</td>\n",
       "      <td>0.082621</td>\n",
       "      <td>...</td>\n",
       "      <td>0.0</td>\n",
       "      <td>0.0</td>\n",
       "      <td>0.0</td>\n",
       "      <td>0.0</td>\n",
       "      <td>0.0</td>\n",
       "      <td>0.0</td>\n",
       "      <td>0.0</td>\n",
       "      <td>0.0</td>\n",
       "      <td>0.0</td>\n",
       "      <td>0.0</td>\n",
       "    </tr>\n",
       "    <tr>\n",
       "      <th>2</th>\n",
       "      <td>1.000000</td>\n",
       "      <td>0.659459</td>\n",
       "      <td>0.186486</td>\n",
       "      <td>0.070270</td>\n",
       "      <td>0.070270</td>\n",
       "      <td>0.059459</td>\n",
       "      <td>0.056757</td>\n",
       "      <td>0.043243</td>\n",
       "      <td>0.054054</td>\n",
       "      <td>0.045946</td>\n",
       "      <td>...</td>\n",
       "      <td>0.0</td>\n",
       "      <td>0.0</td>\n",
       "      <td>0.0</td>\n",
       "      <td>0.0</td>\n",
       "      <td>0.0</td>\n",
       "      <td>0.0</td>\n",
       "      <td>0.0</td>\n",
       "      <td>0.0</td>\n",
       "      <td>0.0</td>\n",
       "      <td>0.0</td>\n",
       "    </tr>\n",
       "    <tr>\n",
       "      <th>3</th>\n",
       "      <td>0.925414</td>\n",
       "      <td>0.665746</td>\n",
       "      <td>0.541436</td>\n",
       "      <td>0.276243</td>\n",
       "      <td>0.196133</td>\n",
       "      <td>0.077348</td>\n",
       "      <td>0.071823</td>\n",
       "      <td>0.060773</td>\n",
       "      <td>0.066298</td>\n",
       "      <td>0.058011</td>\n",
       "      <td>...</td>\n",
       "      <td>0.0</td>\n",
       "      <td>0.0</td>\n",
       "      <td>0.0</td>\n",
       "      <td>0.0</td>\n",
       "      <td>0.0</td>\n",
       "      <td>0.0</td>\n",
       "      <td>0.0</td>\n",
       "      <td>0.0</td>\n",
       "      <td>0.0</td>\n",
       "      <td>0.0</td>\n",
       "    </tr>\n",
       "    <tr>\n",
       "      <th>4</th>\n",
       "      <td>0.967136</td>\n",
       "      <td>1.000000</td>\n",
       "      <td>0.830986</td>\n",
       "      <td>0.586854</td>\n",
       "      <td>0.356808</td>\n",
       "      <td>0.248826</td>\n",
       "      <td>0.145540</td>\n",
       "      <td>0.089202</td>\n",
       "      <td>0.117371</td>\n",
       "      <td>0.150235</td>\n",
       "      <td>...</td>\n",
       "      <td>0.0</td>\n",
       "      <td>0.0</td>\n",
       "      <td>0.0</td>\n",
       "      <td>0.0</td>\n",
       "      <td>0.0</td>\n",
       "      <td>0.0</td>\n",
       "      <td>0.0</td>\n",
       "      <td>0.0</td>\n",
       "      <td>0.0</td>\n",
       "      <td>0.0</td>\n",
       "    </tr>\n",
       "  </tbody>\n",
       "</table>\n",
       "<p>5 rows × 188 columns</p>\n",
       "</div>"
      ],
      "text/plain": [
       "        0         1         2         3         4         5         6    \\\n",
       "0  0.977941  0.926471  0.681373  0.245098  0.154412  0.191176  0.151961   \n",
       "1  0.960114  0.863248  0.461538  0.196581  0.094017  0.125356  0.099715   \n",
       "2  1.000000  0.659459  0.186486  0.070270  0.070270  0.059459  0.056757   \n",
       "3  0.925414  0.665746  0.541436  0.276243  0.196133  0.077348  0.071823   \n",
       "4  0.967136  1.000000  0.830986  0.586854  0.356808  0.248826  0.145540   \n",
       "\n",
       "        7         8         9    ...  178  179  180  181  182  183  184  185  \\\n",
       "0  0.085784  0.058824  0.049020  ...  0.0  0.0  0.0  0.0  0.0  0.0  0.0  0.0   \n",
       "1  0.088319  0.074074  0.082621  ...  0.0  0.0  0.0  0.0  0.0  0.0  0.0  0.0   \n",
       "2  0.043243  0.054054  0.045946  ...  0.0  0.0  0.0  0.0  0.0  0.0  0.0  0.0   \n",
       "3  0.060773  0.066298  0.058011  ...  0.0  0.0  0.0  0.0  0.0  0.0  0.0  0.0   \n",
       "4  0.089202  0.117371  0.150235  ...  0.0  0.0  0.0  0.0  0.0  0.0  0.0  0.0   \n",
       "\n",
       "   186  187  \n",
       "0  0.0  0.0  \n",
       "1  0.0  0.0  \n",
       "2  0.0  0.0  \n",
       "3  0.0  0.0  \n",
       "4  0.0  0.0  \n",
       "\n",
       "[5 rows x 188 columns]"
      ]
     },
     "execution_count": 15,
     "metadata": {},
     "output_type": "execute_result"
    }
   ],
   "source": [
    "mit_train_data.head()"
   ]
  },
  {
   "cell_type": "code",
   "execution_count": 16,
   "id": "d0ff4969",
   "metadata": {},
   "outputs": [],
   "source": [
    "x_train, y_train = mit_train_data.iloc[: , :-1], mit_train_data.iloc[: , -1]"
   ]
  },
  {
   "cell_type": "code",
   "execution_count": 17,
   "id": "40e1a875",
   "metadata": {},
   "outputs": [],
   "source": [
    "x_test, y_test = mit_test_data.iloc[: , :-1], mit_test_data.iloc[: , -1]"
   ]
  },
  {
   "cell_type": "code",
   "execution_count": 18,
   "id": "94ecffbd",
   "metadata": {},
   "outputs": [
    {
     "name": "stdout",
     "output_type": "stream",
     "text": [
      "X shape = (87554, 187)\n",
      "y shape = (87554,)\n",
      "x_test shape = (21892, 187)\n",
      "y_test shape = (21892,)\n"
     ]
    }
   ],
   "source": [
    "print(\"X shape = \" +str(x_train.shape))\n",
    "print(\"y shape = \" +str(y_train.shape))\n",
    "\n",
    "print(\"x_test shape = \" +str(x_test.shape))\n",
    "print(\"y_test shape = \" +str(y_test.shape))"
   ]
  },
  {
   "cell_type": "markdown",
   "id": "bb055ad1",
   "metadata": {},
   "source": [
    "# Sklearn"
   ]
  },
  {
   "cell_type": "code",
   "execution_count": 19,
   "id": "f95ab16e",
   "metadata": {},
   "outputs": [
    {
     "name": "stdout",
     "output_type": "stream",
     "text": [
      "Sklearn 1.2.1\n"
     ]
    }
   ],
   "source": [
    "print('Sklearn ' + sklearn.__version__)"
   ]
  },
  {
   "cell_type": "code",
   "execution_count": 20,
   "id": "47c7d555",
   "metadata": {},
   "outputs": [
    {
     "name": "stdout",
     "output_type": "stream",
     "text": [
      "Accuracy: 0.8296181253425909\n"
     ]
    }
   ],
   "source": [
    "from sklearn.naive_bayes import CategoricalNB\n",
    "gnb = CategoricalNB()\n",
    "gnb.fit(x_train, y_train)\n",
    "\n",
    "y_pred = gnb.predict(x_test)\n",
    "\n",
    "from sklearn import metrics\n",
    "print(\"Accuracy:\",metrics.accuracy_score(y_test, y_pred))"
   ]
  },
  {
   "cell_type": "code",
   "execution_count": 21,
   "id": "076855a0",
   "metadata": {},
   "outputs": [
    {
     "name": "stdout",
     "output_type": "stream",
     "text": [
      "Best hyperparameters: {'var_smoothing': 1e-09}\n",
      "Best score: 0.18768995883830675\n"
     ]
    }
   ],
   "source": [
    "from sklearn.naive_bayes import GaussianNB\n",
    "from sklearn.model_selection import GridSearchCV\n",
    "from sklearn.datasets import load_iris\n",
    "\n",
    "# Define the parameters to search over in the GridSearch\n",
    "param_grid = {\n",
    "    'var_smoothing': [1e-9]\n",
    "}\n",
    "\n",
    "# Create a Gaussian Naive Bayes object\n",
    "gnb = GaussianNB()\n",
    "\n",
    "# Create a GridSearch object and fit it to the data\n",
    "grid_search = GridSearchCV(gnb, param_grid=param_grid, cv=5)\n",
    "grid_search.fit(x_train, y_train)\n",
    "\n",
    "# Print the best hyperparameters found\n",
    "print(\"Best hyperparameters:\", grid_search.best_params_)\n",
    "\n",
    "# Print the best score found\n",
    "print(\"Best score:\", grid_search.best_score_)"
   ]
  },
  {
   "cell_type": "code",
   "execution_count": 22,
   "id": "3d8e4a15",
   "metadata": {},
   "outputs": [
    {
     "name": "stdout",
     "output_type": "stream",
     "text": [
      "Accuracy: 0.9623606797003471\n"
     ]
    }
   ],
   "source": [
    "from sklearn.neural_network import MLPClassifier\n",
    "from sklearn.datasets import make_classification\n",
    "from sklearn.model_selection import train_test_split\n",
    "\n",
    "# create an MLPClassifier object and fit it to the training data\n",
    "mlp = MLPClassifier(hidden_layer_sizes=(10, 10), max_iter=1000, random_state=42)\n",
    "mlp.fit(x_train, y_train)\n",
    "\n",
    "# evaluate the model on the testing data\n",
    "accuracy = mlp.score(x_test, y_test)\n",
    "print(\"Accuracy:\", accuracy)"
   ]
  },
  {
   "cell_type": "markdown",
   "id": "78a6cd55",
   "metadata": {},
   "source": [
    "# Tensorflow"
   ]
  },
  {
   "cell_type": "code",
   "execution_count": 23,
   "id": "45aa22d1",
   "metadata": {},
   "outputs": [],
   "source": [
    "import tensorflow as tf\n",
    "import numpy as np\n",
    "import matplotlib.pyplot as plt\n",
    "import math\n",
    "from tensorflow.keras import layers"
   ]
  },
  {
   "cell_type": "code",
   "execution_count": 24,
   "id": "472fc19c",
   "metadata": {},
   "outputs": [
    {
     "name": "stdout",
     "output_type": "stream",
     "text": [
      "Numpy 1.23.5\n",
      "TensorFlow 2.10.0\n",
      "Keras 2.10.0\n"
     ]
    },
    {
     "name": "stderr",
     "output_type": "stream",
     "text": [
      "unknown option --versions\n",
      "usage: python [option] ... [-c cmd | -m mod | file | -] [arg] ...\n",
      "Try `python -h' for more information.\n"
     ]
    }
   ],
   "source": [
    "# Print versions\n",
    "!python --versions\n",
    "print('Numpy ' + np.__version__)\n",
    "print('TensorFlow ' + tf.__version__)\n",
    "print('Keras ' + tf.keras.__version__)"
   ]
  },
  {
   "cell_type": "code",
   "execution_count": 40,
   "id": "8e96a353",
   "metadata": {},
   "outputs": [
    {
     "name": "stdout",
     "output_type": "stream",
     "text": [
      "Model: \"sequential_4\"\n",
      "_________________________________________________________________\n",
      " Layer (type)                Output Shape              Param #   \n",
      "=================================================================\n",
      " dense_12 (Dense)            (None, 64)                12032     \n",
      "                                                                 \n",
      " dropout_6 (Dropout)         (None, 64)                0         \n",
      "                                                                 \n",
      " dense_13 (Dense)            (None, 64)                4160      \n",
      "                                                                 \n",
      " dropout_7 (Dropout)         (None, 64)                0         \n",
      "                                                                 \n",
      " dense_14 (Dense)            (None, 64)                4160      \n",
      "                                                                 \n",
      " dropout_8 (Dropout)         (None, 64)                0         \n",
      "                                                                 \n",
      " dense_15 (Dense)            (None, 32)                2080      \n",
      "                                                                 \n",
      " dropout_9 (Dropout)         (None, 32)                0         \n",
      "                                                                 \n",
      " dense_16 (Dense)            (None, 32)                1056      \n",
      "                                                                 \n",
      " dense_17 (Dense)            (None, 5)                 165       \n",
      "                                                                 \n",
      "=================================================================\n",
      "Total params: 23,653\n",
      "Trainable params: 23,653\n",
      "Non-trainable params: 0\n",
      "_________________________________________________________________\n"
     ]
    }
   ],
   "source": [
    "# model = tf.keras.Sequential([\n",
    "#     tf.keras.layers.Dense(units=32, activation='relu', input_shape=(187,)),\n",
    "#     tf.keras.layers.Dense(units=32, activation='relu'),\n",
    "# ])\n",
    "\n",
    "model = tf.keras.Sequential()\n",
    "\n",
    "model.add(tf.keras.layers.Dense(64, activation='relu', input_shape=(187,)))\n",
    "model.add(tf.keras.layers.Dropout(0.2))\n",
    "\n",
    "model.add(tf.keras.layers.Dense(64, activation='relu'))\n",
    "model.add(tf.keras.layers.Dropout(0.2))\n",
    "\n",
    "model.add(tf.keras.layers.Dense(64, activation='relu'))\n",
    "model.add(tf.keras.layers.Dropout(0.2))\n",
    "\n",
    "model.add(tf.keras.layers.Dense(32, activation='relu'))\n",
    "model.add(tf.keras.layers.Dropout(0.2))\n",
    "\n",
    "model.add(tf.keras.layers.Dense(32, activation='relu'))\n",
    "model.add(tf.keras.layers.Dense(5, activation='softmax'))\n",
    "\n",
    "model.summary()\n"
   ]
  },
  {
   "cell_type": "code",
   "execution_count": 42,
   "id": "e97ee1db",
   "metadata": {},
   "outputs": [
    {
     "name": "stdout",
     "output_type": "stream",
     "text": [
      "Epoch 1/200\n",
      "876/876 [==============================] - 4s 3ms/step - loss: 0.6045 - accuracy: 0.7649\n",
      "Epoch 2/200\n",
      "876/876 [==============================] - 3s 3ms/step - loss: 0.6045 - accuracy: 0.7635\n",
      "Epoch 3/200\n",
      "876/876 [==============================] - 3s 3ms/step - loss: 0.6045 - accuracy: 0.7648\n",
      "Epoch 4/200\n",
      "876/876 [==============================] - 3s 3ms/step - loss: 0.6045 - accuracy: 0.7660\n",
      "Epoch 5/200\n",
      "876/876 [==============================] - 3s 3ms/step - loss: 0.6045 - accuracy: 0.7644\n",
      "Epoch 6/200\n",
      "876/876 [==============================] - 4s 4ms/step - loss: 0.6045 - accuracy: 0.7648\n",
      "Epoch 7/200\n",
      "876/876 [==============================] - 3s 3ms/step - loss: 0.6045 - accuracy: 0.7656\n",
      "Epoch 8/200\n",
      "876/876 [==============================] - 3s 4ms/step - loss: 0.6045 - accuracy: 0.7662\n",
      "Epoch 9/200\n",
      "876/876 [==============================] - 3s 3ms/step - loss: 0.6045 - accuracy: 0.7647\n",
      "Epoch 10/200\n",
      "876/876 [==============================] - 3s 3ms/step - loss: 0.6045 - accuracy: 0.7659\n",
      "Epoch 11/200\n",
      "876/876 [==============================] - 3s 3ms/step - loss: 0.6045 - accuracy: 0.7641\n",
      "Epoch 12/200\n",
      "876/876 [==============================] - 2s 3ms/step - loss: 0.6045 - accuracy: 0.7667\n",
      "Epoch 13/200\n",
      "876/876 [==============================] - 2s 3ms/step - loss: 0.6045 - accuracy: 0.7671\n",
      "Epoch 14/200\n",
      "876/876 [==============================] - 3s 3ms/step - loss: 0.6045 - accuracy: 0.7654\n",
      "Epoch 15/200\n",
      "876/876 [==============================] - 2s 3ms/step - loss: 0.6045 - accuracy: 0.7652\n",
      "Epoch 16/200\n",
      "876/876 [==============================] - 2s 3ms/step - loss: 0.6045 - accuracy: 0.7653\n",
      "Epoch 17/200\n",
      "876/876 [==============================] - 2s 3ms/step - loss: 0.6045 - accuracy: 0.7663\n",
      "Epoch 18/200\n",
      "876/876 [==============================] - 2s 3ms/step - loss: 0.6045 - accuracy: 0.7670\n",
      "Epoch 19/200\n",
      "876/876 [==============================] - 2s 3ms/step - loss: 0.6045 - accuracy: 0.7660\n",
      "Epoch 20/200\n",
      "876/876 [==============================] - 2s 3ms/step - loss: 0.6045 - accuracy: 0.7680\n",
      "Epoch 21/200\n",
      "876/876 [==============================] - 3s 3ms/step - loss: 0.6045 - accuracy: 0.7665\n",
      "Epoch 22/200\n",
      "876/876 [==============================] - 2s 3ms/step - loss: 0.6045 - accuracy: 0.7669\n",
      "Epoch 23/200\n",
      "876/876 [==============================] - 2s 3ms/step - loss: 0.6045 - accuracy: 0.7678\n",
      "Epoch 24/200\n",
      "876/876 [==============================] - 2s 3ms/step - loss: 0.6045 - accuracy: 0.7677\n",
      "Epoch 25/200\n",
      "876/876 [==============================] - 2s 3ms/step - loss: 0.6045 - accuracy: 0.7681\n",
      "Epoch 26/200\n",
      "876/876 [==============================] - 2s 3ms/step - loss: 0.6045 - accuracy: 0.7695\n",
      "Epoch 27/200\n",
      "876/876 [==============================] - 3s 3ms/step - loss: 0.6045 - accuracy: 0.7696\n",
      "Epoch 28/200\n",
      "876/876 [==============================] - 2s 3ms/step - loss: 0.6045 - accuracy: 0.7683\n",
      "Epoch 29/200\n",
      "876/876 [==============================] - 2s 3ms/step - loss: 0.6045 - accuracy: 0.7685\n",
      "Epoch 30/200\n",
      "876/876 [==============================] - 2s 3ms/step - loss: 0.6045 - accuracy: 0.7694\n",
      "Epoch 31/200\n",
      "876/876 [==============================] - 2s 3ms/step - loss: 0.6045 - accuracy: 0.7697\n",
      "Epoch 32/200\n",
      "876/876 [==============================] - 2s 3ms/step - loss: 0.6045 - accuracy: 0.7701\n",
      "Epoch 33/200\n",
      "876/876 [==============================] - 2s 3ms/step - loss: 0.6045 - accuracy: 0.7688\n",
      "Epoch 34/200\n",
      "876/876 [==============================] - 3s 3ms/step - loss: 0.6045 - accuracy: 0.7691\n",
      "Epoch 35/200\n",
      "876/876 [==============================] - 4s 4ms/step - loss: 0.6045 - accuracy: 0.7698\n",
      "Epoch 36/200\n",
      "876/876 [==============================] - 2s 3ms/step - loss: 0.6045 - accuracy: 0.7673\n",
      "Epoch 37/200\n",
      "876/876 [==============================] - 2s 3ms/step - loss: 0.6045 - accuracy: 0.7678\n",
      "Epoch 38/200\n",
      "876/876 [==============================] - 2s 3ms/step - loss: 0.6045 - accuracy: 0.7669\n",
      "Epoch 39/200\n",
      "876/876 [==============================] - 2s 3ms/step - loss: 0.6045 - accuracy: 0.7677\n",
      "Epoch 40/200\n",
      "876/876 [==============================] - 3s 3ms/step - loss: 0.6045 - accuracy: 0.7659\n",
      "Epoch 41/200\n",
      "876/876 [==============================] - 2s 3ms/step - loss: 0.6045 - accuracy: 0.7667\n",
      "Epoch 42/200\n",
      "876/876 [==============================] - 2s 3ms/step - loss: 0.6045 - accuracy: 0.7644\n",
      "Epoch 43/200\n",
      "876/876 [==============================] - 2s 3ms/step - loss: 0.6045 - accuracy: 0.7649\n",
      "Epoch 44/200\n",
      "876/876 [==============================] - 2s 3ms/step - loss: 0.6045 - accuracy: 0.7645\n",
      "Epoch 45/200\n",
      "876/876 [==============================] - 2s 3ms/step - loss: 0.6045 - accuracy: 0.7653\n",
      "Epoch 46/200\n",
      "876/876 [==============================] - 2s 3ms/step - loss: 0.6045 - accuracy: 0.7637\n",
      "Epoch 47/200\n",
      "876/876 [==============================] - 3s 3ms/step - loss: 0.6045 - accuracy: 0.7627\n",
      "Epoch 48/200\n",
      "876/876 [==============================] - 2s 3ms/step - loss: 0.6045 - accuracy: 0.7593\n",
      "Epoch 49/200\n",
      "876/876 [==============================] - 2s 3ms/step - loss: 0.6045 - accuracy: 0.7602\n",
      "Epoch 50/200\n",
      "876/876 [==============================] - 2s 3ms/step - loss: 0.6045 - accuracy: 0.7577\n",
      "Epoch 51/200\n",
      "876/876 [==============================] - 2s 3ms/step - loss: 0.6045 - accuracy: 0.7566\n",
      "Epoch 52/200\n",
      "876/876 [==============================] - 2s 3ms/step - loss: 0.6045 - accuracy: 0.7565\n",
      "Epoch 53/200\n",
      "876/876 [==============================] - 3s 3ms/step - loss: 0.6045 - accuracy: 0.7569\n",
      "Epoch 54/200\n",
      "876/876 [==============================] - 3s 3ms/step - loss: 0.6045 - accuracy: 0.7542\n",
      "Epoch 55/200\n",
      "876/876 [==============================] - 2s 3ms/step - loss: 0.6045 - accuracy: 0.7528\n",
      "Epoch 56/200\n",
      "876/876 [==============================] - 2s 3ms/step - loss: 0.6045 - accuracy: 0.7505\n",
      "Epoch 57/200\n",
      "876/876 [==============================] - 2s 3ms/step - loss: 0.6045 - accuracy: 0.7497\n",
      "Epoch 58/200\n",
      "876/876 [==============================] - 2s 3ms/step - loss: 0.6045 - accuracy: 0.7468\n",
      "Epoch 59/200\n",
      "876/876 [==============================] - 2s 3ms/step - loss: 0.6045 - accuracy: 0.7466\n",
      "Epoch 60/200\n",
      "876/876 [==============================] - 3s 3ms/step - loss: 0.6045 - accuracy: 0.7427\n",
      "Epoch 61/200\n",
      "876/876 [==============================] - 2s 3ms/step - loss: 0.6045 - accuracy: 0.7414\n",
      "Epoch 62/200\n",
      "876/876 [==============================] - 2s 3ms/step - loss: 0.6045 - accuracy: 0.7375\n",
      "Epoch 63/200\n",
      "876/876 [==============================] - 2s 3ms/step - loss: 0.6045 - accuracy: 0.7347\n",
      "Epoch 64/200\n",
      "876/876 [==============================] - 2s 3ms/step - loss: 0.6045 - accuracy: 0.7307\n",
      "Epoch 65/200\n",
      "876/876 [==============================] - 2s 3ms/step - loss: 0.6045 - accuracy: 0.7268\n",
      "Epoch 66/200\n",
      "876/876 [==============================] - 2s 3ms/step - loss: 0.6045 - accuracy: 0.7236\n",
      "Epoch 67/200\n",
      "876/876 [==============================] - 3s 3ms/step - loss: 0.6045 - accuracy: 0.7189\n",
      "Epoch 68/200\n",
      "876/876 [==============================] - 2s 3ms/step - loss: 0.6045 - accuracy: 0.7142\n",
      "Epoch 69/200\n",
      "876/876 [==============================] - 2s 3ms/step - loss: 0.6045 - accuracy: 0.7080\n",
      "Epoch 70/200\n",
      "876/876 [==============================] - 2s 3ms/step - loss: 0.6045 - accuracy: 0.7027\n",
      "Epoch 71/200\n",
      "876/876 [==============================] - 2s 3ms/step - loss: 0.6045 - accuracy: 0.6984\n",
      "Epoch 72/200\n",
      "876/876 [==============================] - 2s 3ms/step - loss: 0.6045 - accuracy: 0.6871\n",
      "Epoch 73/200\n",
      "876/876 [==============================] - 3s 3ms/step - loss: 0.6045 - accuracy: 0.6740\n",
      "Epoch 74/200\n",
      "876/876 [==============================] - 3s 3ms/step - loss: 0.6045 - accuracy: 0.6640\n",
      "Epoch 75/200\n",
      "876/876 [==============================] - 2s 3ms/step - loss: 0.6045 - accuracy: 0.6541\n",
      "Epoch 76/200\n",
      "876/876 [==============================] - 2s 3ms/step - loss: 0.6045 - accuracy: 0.6348\n",
      "Epoch 77/200\n",
      "876/876 [==============================] - 2s 3ms/step - loss: 0.6045 - accuracy: 0.6172\n",
      "Epoch 78/200\n",
      "876/876 [==============================] - 2s 3ms/step - loss: 0.6045 - accuracy: 0.5913\n",
      "Epoch 79/200\n",
      "876/876 [==============================] - 2s 3ms/step - loss: 0.6045 - accuracy: 0.5547\n",
      "Epoch 80/200\n",
      "876/876 [==============================] - 3s 3ms/step - loss: 0.6045 - accuracy: 0.5074\n",
      "Epoch 81/200\n",
      "876/876 [==============================] - 2s 3ms/step - loss: 0.6045 - accuracy: 0.4275\n",
      "Epoch 82/200\n",
      "876/876 [==============================] - 2s 3ms/step - loss: 0.6045 - accuracy: 0.3264\n",
      "Epoch 83/200\n",
      "876/876 [==============================] - 2s 3ms/step - loss: 0.6045 - accuracy: 0.2384\n",
      "Epoch 84/200\n",
      "876/876 [==============================] - 2s 3ms/step - loss: 0.6045 - accuracy: 0.1975\n",
      "Epoch 85/200\n",
      "876/876 [==============================] - 2s 3ms/step - loss: 0.6045 - accuracy: 0.1942\n",
      "Epoch 86/200\n",
      "876/876 [==============================] - 3s 3ms/step - loss: 0.6045 - accuracy: 0.2165\n",
      "Epoch 87/200\n",
      "876/876 [==============================] - 3s 3ms/step - loss: 0.6045 - accuracy: 0.2261\n",
      "Epoch 88/200\n",
      "876/876 [==============================] - 2s 3ms/step - loss: 0.6045 - accuracy: 0.2182\n",
      "Epoch 89/200\n",
      "876/876 [==============================] - 2s 3ms/step - loss: 0.6045 - accuracy: 0.2149\n",
      "Epoch 90/200\n",
      "876/876 [==============================] - 2s 3ms/step - loss: 0.6045 - accuracy: 0.2124\n",
      "Epoch 91/200\n",
      "876/876 [==============================] - 2s 3ms/step - loss: 0.6045 - accuracy: 0.2070\n",
      "Epoch 92/200\n",
      "876/876 [==============================] - 2s 3ms/step - loss: 0.6045 - accuracy: 0.2047\n",
      "Epoch 93/200\n",
      "876/876 [==============================] - 3s 3ms/step - loss: 0.6045 - accuracy: 0.2067\n",
      "Epoch 94/200\n",
      "876/876 [==============================] - 2s 3ms/step - loss: 0.6045 - accuracy: 0.2044\n",
      "Epoch 95/200\n",
      "876/876 [==============================] - 2s 3ms/step - loss: 0.6045 - accuracy: 0.2031\n",
      "Epoch 96/200\n",
      "876/876 [==============================] - 3s 3ms/step - loss: 0.6045 - accuracy: 0.2038\n",
      "Epoch 97/200\n",
      "876/876 [==============================] - 3s 3ms/step - loss: 0.6045 - accuracy: 0.2019\n",
      "Epoch 98/200\n",
      "876/876 [==============================] - 2s 3ms/step - loss: 0.6045 - accuracy: 0.2023\n",
      "Epoch 99/200\n",
      "876/876 [==============================] - 3s 3ms/step - loss: 0.6045 - accuracy: 0.2023\n",
      "Epoch 100/200\n",
      "876/876 [==============================] - 3s 3ms/step - loss: 0.6045 - accuracy: 0.2024\n",
      "Epoch 101/200\n",
      "876/876 [==============================] - 2s 3ms/step - loss: 0.6045 - accuracy: 0.2022\n",
      "Epoch 102/200\n",
      "876/876 [==============================] - 2s 3ms/step - loss: 0.6045 - accuracy: 0.2014\n",
      "Epoch 103/200\n",
      "876/876 [==============================] - 2s 3ms/step - loss: 0.6045 - accuracy: 0.2023\n",
      "Epoch 104/200\n",
      "876/876 [==============================] - 2s 3ms/step - loss: 0.6045 - accuracy: 0.2014\n",
      "Epoch 105/200\n",
      "876/876 [==============================] - 3s 3ms/step - loss: 0.6045 - accuracy: 0.2038\n",
      "Epoch 106/200\n",
      "876/876 [==============================] - 3s 3ms/step - loss: 0.6045 - accuracy: 0.1990\n",
      "Epoch 107/200\n",
      "876/876 [==============================] - 3s 3ms/step - loss: 0.6045 - accuracy: 0.2022\n",
      "Epoch 108/200\n",
      "876/876 [==============================] - 2s 3ms/step - loss: 0.6045 - accuracy: 0.1999\n",
      "Epoch 109/200\n",
      "876/876 [==============================] - 2s 3ms/step - loss: 0.6045 - accuracy: 0.2066\n",
      "Epoch 110/200\n",
      "876/876 [==============================] - 2s 3ms/step - loss: 0.6045 - accuracy: 0.2042\n",
      "Epoch 111/200\n",
      "876/876 [==============================] - 2s 3ms/step - loss: 0.6045 - accuracy: 0.2010\n",
      "Epoch 112/200\n",
      "876/876 [==============================] - 3s 3ms/step - loss: 0.6045 - accuracy: 0.2011\n",
      "Epoch 113/200\n",
      "876/876 [==============================] - 3s 4ms/step - loss: 0.6045 - accuracy: 0.2019\n",
      "Epoch 114/200\n",
      "876/876 [==============================] - 3s 3ms/step - loss: 0.6045 - accuracy: 0.2015\n",
      "Epoch 115/200\n",
      "876/876 [==============================] - 3s 3ms/step - loss: 0.6045 - accuracy: 0.2024\n",
      "Epoch 116/200\n",
      "876/876 [==============================] - 3s 3ms/step - loss: 0.6045 - accuracy: 0.2031\n",
      "Epoch 117/200\n",
      "876/876 [==============================] - 3s 3ms/step - loss: 0.6045 - accuracy: 0.2012\n",
      "Epoch 118/200\n",
      "876/876 [==============================] - 3s 3ms/step - loss: 0.6045 - accuracy: 0.2014\n",
      "Epoch 119/200\n",
      "876/876 [==============================] - 3s 3ms/step - loss: 0.6045 - accuracy: 0.2019\n",
      "Epoch 120/200\n",
      "876/876 [==============================] - 3s 3ms/step - loss: 0.6045 - accuracy: 0.2007\n",
      "Epoch 121/200\n",
      "876/876 [==============================] - 3s 3ms/step - loss: 0.6045 - accuracy: 0.2023\n",
      "Epoch 122/200\n",
      "876/876 [==============================] - 3s 3ms/step - loss: 0.6045 - accuracy: 0.2022\n",
      "Epoch 123/200\n",
      "876/876 [==============================] - 3s 4ms/step - loss: 0.6045 - accuracy: 0.2028\n",
      "Epoch 124/200\n",
      "876/876 [==============================] - 3s 3ms/step - loss: 0.6045 - accuracy: 0.2022\n",
      "Epoch 125/200\n",
      "876/876 [==============================] - 3s 3ms/step - loss: 0.6045 - accuracy: 0.2040\n",
      "Epoch 126/200\n",
      "876/876 [==============================] - 3s 3ms/step - loss: 0.6045 - accuracy: 0.2002\n",
      "Epoch 127/200\n",
      "876/876 [==============================] - 3s 3ms/step - loss: 0.6045 - accuracy: 0.2015\n",
      "Epoch 128/200\n",
      "876/876 [==============================] - 3s 3ms/step - loss: 0.6045 - accuracy: 0.2003\n",
      "Epoch 129/200\n",
      "876/876 [==============================] - 3s 4ms/step - loss: 0.6045 - accuracy: 0.2016\n",
      "Epoch 130/200\n",
      "876/876 [==============================] - 3s 3ms/step - loss: 0.6045 - accuracy: 0.2020\n",
      "Epoch 131/200\n",
      "876/876 [==============================] - 3s 3ms/step - loss: 0.6045 - accuracy: 0.2036\n",
      "Epoch 132/200\n",
      "876/876 [==============================] - 3s 3ms/step - loss: 0.6045 - accuracy: 0.2011\n",
      "Epoch 133/200\n",
      "876/876 [==============================] - 3s 3ms/step - loss: 0.6045 - accuracy: 0.2020\n",
      "Epoch 134/200\n",
      "876/876 [==============================] - 3s 4ms/step - loss: 0.6045 - accuracy: 0.2034\n",
      "Epoch 135/200\n",
      "876/876 [==============================] - 3s 4ms/step - loss: 0.6045 - accuracy: 0.2002\n",
      "Epoch 136/200\n",
      "876/876 [==============================] - 3s 3ms/step - loss: 0.6045 - accuracy: 0.2025\n",
      "Epoch 137/200\n",
      "876/876 [==============================] - 3s 3ms/step - loss: 0.6045 - accuracy: 0.2026\n",
      "Epoch 138/200\n",
      "876/876 [==============================] - 3s 3ms/step - loss: 0.6045 - accuracy: 0.2003\n",
      "Epoch 139/200\n",
      "876/876 [==============================] - 3s 3ms/step - loss: 0.6045 - accuracy: 0.2004\n",
      "Epoch 140/200\n",
      "876/876 [==============================] - 4s 4ms/step - loss: 0.6045 - accuracy: 0.2015\n",
      "Epoch 141/200\n",
      "876/876 [==============================] - 3s 3ms/step - loss: 0.6045 - accuracy: 0.2016\n",
      "Epoch 142/200\n",
      "876/876 [==============================] - 3s 3ms/step - loss: 0.6045 - accuracy: 0.1999\n",
      "Epoch 143/200\n",
      "876/876 [==============================] - 3s 3ms/step - loss: 0.6045 - accuracy: 0.2015\n",
      "Epoch 144/200\n",
      "876/876 [==============================] - 3s 3ms/step - loss: 0.6045 - accuracy: 0.2026\n",
      "Epoch 145/200\n",
      "876/876 [==============================] - 3s 3ms/step - loss: 0.6045 - accuracy: 0.1994\n",
      "Epoch 146/200\n",
      "876/876 [==============================] - 3s 3ms/step - loss: 0.6045 - accuracy: 0.2001\n",
      "Epoch 147/200\n",
      "876/876 [==============================] - 3s 3ms/step - loss: 0.6045 - accuracy: 0.2033\n",
      "Epoch 148/200\n",
      "876/876 [==============================] - 3s 3ms/step - loss: 0.6045 - accuracy: 0.2024\n",
      "Epoch 149/200\n",
      "876/876 [==============================] - 3s 3ms/step - loss: 0.6045 - accuracy: 0.2021\n",
      "Epoch 150/200\n",
      "876/876 [==============================] - 3s 3ms/step - loss: 0.6045 - accuracy: 0.1989\n",
      "Epoch 151/200\n",
      "876/876 [==============================] - 4s 5ms/step - loss: 0.6045 - accuracy: 0.2004\n",
      "Epoch 152/200\n",
      "876/876 [==============================] - 2s 3ms/step - loss: 0.6045 - accuracy: 0.2012\n",
      "Epoch 153/200\n",
      "876/876 [==============================] - 4s 4ms/step - loss: 0.6045 - accuracy: 0.2004\n",
      "Epoch 154/200\n",
      "876/876 [==============================] - 3s 3ms/step - loss: 0.6045 - accuracy: 0.2015\n",
      "Epoch 155/200\n",
      "876/876 [==============================] - 2s 3ms/step - loss: 0.6045 - accuracy: 0.2018\n",
      "Epoch 156/200\n",
      "876/876 [==============================] - 3s 3ms/step - loss: 0.6045 - accuracy: 0.2023\n",
      "Epoch 157/200\n",
      "876/876 [==============================] - 3s 3ms/step - loss: 0.6045 - accuracy: 0.1986\n",
      "Epoch 158/200\n",
      "876/876 [==============================] - 2s 3ms/step - loss: 0.6045 - accuracy: 0.2034\n",
      "Epoch 159/200\n",
      "876/876 [==============================] - 3s 3ms/step - loss: 0.6045 - accuracy: 0.2013\n",
      "Epoch 160/200\n",
      "876/876 [==============================] - 3s 3ms/step - loss: 0.6045 - accuracy: 0.2020\n",
      "Epoch 161/200\n",
      "876/876 [==============================] - 3s 3ms/step - loss: 0.6045 - accuracy: 0.1993\n",
      "Epoch 162/200\n",
      "876/876 [==============================] - 3s 3ms/step - loss: 0.6045 - accuracy: 0.2003\n",
      "Epoch 163/200\n",
      "876/876 [==============================] - 3s 3ms/step - loss: 0.6045 - accuracy: 0.2000\n",
      "Epoch 164/200\n",
      "876/876 [==============================] - 3s 3ms/step - loss: 0.6045 - accuracy: 0.2005\n",
      "Epoch 165/200\n",
      "876/876 [==============================] - 2s 3ms/step - loss: 0.6045 - accuracy: 0.2034\n",
      "Epoch 166/200\n",
      "876/876 [==============================] - 2s 3ms/step - loss: 0.6045 - accuracy: 0.2014\n",
      "Epoch 167/200\n",
      "876/876 [==============================] - 2s 3ms/step - loss: 0.6045 - accuracy: 0.1987\n",
      "Epoch 168/200\n",
      "876/876 [==============================] - 3s 3ms/step - loss: 0.6045 - accuracy: 0.1996\n",
      "Epoch 169/200\n",
      "876/876 [==============================] - 3s 3ms/step - loss: 0.6045 - accuracy: 0.2005\n",
      "Epoch 170/200\n",
      "876/876 [==============================] - 2s 3ms/step - loss: 0.6045 - accuracy: 0.2027\n",
      "Epoch 171/200\n",
      "876/876 [==============================] - 2s 3ms/step - loss: 0.6045 - accuracy: 0.2015\n",
      "Epoch 172/200\n",
      "876/876 [==============================] - 2s 3ms/step - loss: 0.6045 - accuracy: 0.2014\n",
      "Epoch 173/200\n",
      "876/876 [==============================] - 3s 3ms/step - loss: 0.6045 - accuracy: 0.2014\n",
      "Epoch 174/200\n",
      "876/876 [==============================] - 3s 3ms/step - loss: 0.6045 - accuracy: 0.1999\n",
      "Epoch 175/200\n",
      "876/876 [==============================] - 3s 3ms/step - loss: 0.6045 - accuracy: 0.2007\n",
      "Epoch 176/200\n",
      "876/876 [==============================] - 2s 3ms/step - loss: 0.6045 - accuracy: 0.1979\n",
      "Epoch 177/200\n",
      "876/876 [==============================] - 3s 3ms/step - loss: 0.6045 - accuracy: 0.2021\n",
      "Epoch 178/200\n",
      "876/876 [==============================] - 3s 3ms/step - loss: 0.6045 - accuracy: 0.2014\n",
      "Epoch 179/200\n",
      "876/876 [==============================] - 4s 4ms/step - loss: 0.6045 - accuracy: 0.2014\n",
      "Epoch 180/200\n",
      "876/876 [==============================] - 3s 3ms/step - loss: 0.6045 - accuracy: 0.2030\n",
      "Epoch 181/200\n",
      "876/876 [==============================] - 2s 3ms/step - loss: 0.6045 - accuracy: 0.2014\n",
      "Epoch 182/200\n",
      "876/876 [==============================] - 2s 3ms/step - loss: 0.6045 - accuracy: 0.1997\n",
      "Epoch 183/200\n",
      "876/876 [==============================] - 2s 3ms/step - loss: 0.6045 - accuracy: 0.2024\n",
      "Epoch 184/200\n",
      "876/876 [==============================] - 2s 3ms/step - loss: 0.6045 - accuracy: 0.2030\n",
      "Epoch 185/200\n",
      "876/876 [==============================] - 2s 3ms/step - loss: 0.6045 - accuracy: 0.2027\n",
      "Epoch 186/200\n",
      "876/876 [==============================] - 3s 3ms/step - loss: 0.6045 - accuracy: 0.2031\n",
      "Epoch 187/200\n",
      "876/876 [==============================] - 3s 3ms/step - loss: 0.6045 - accuracy: 0.2003\n",
      "Epoch 188/200\n",
      "876/876 [==============================] - 2s 3ms/step - loss: 0.6045 - accuracy: 0.1991\n",
      "Epoch 189/200\n",
      "876/876 [==============================] - 3s 3ms/step - loss: 0.6045 - accuracy: 0.1997\n",
      "Epoch 190/200\n",
      "876/876 [==============================] - 3s 3ms/step - loss: 0.6045 - accuracy: 0.1996\n",
      "Epoch 191/200\n",
      "876/876 [==============================] - 3s 3ms/step - loss: 0.6045 - accuracy: 0.2013\n",
      "Epoch 192/200\n",
      "876/876 [==============================] - 3s 4ms/step - loss: 0.6045 - accuracy: 0.1998\n",
      "Epoch 193/200\n",
      "876/876 [==============================] - 3s 3ms/step - loss: 0.6045 - accuracy: 0.2029\n",
      "Epoch 194/200\n",
      "876/876 [==============================] - 2s 3ms/step - loss: 0.6045 - accuracy: 0.1994\n",
      "Epoch 195/200\n",
      "876/876 [==============================] - 2s 3ms/step - loss: 0.6045 - accuracy: 0.2011\n",
      "Epoch 196/200\n",
      "876/876 [==============================] - 2s 3ms/step - loss: 0.6045 - accuracy: 0.2015\n",
      "Epoch 197/200\n",
      "876/876 [==============================] - 2s 3ms/step - loss: 0.6045 - accuracy: 0.1998\n",
      "Epoch 198/200\n",
      "876/876 [==============================] - 3s 3ms/step - loss: 0.6045 - accuracy: 0.2013\n",
      "Epoch 199/200\n",
      "876/876 [==============================] - 3s 3ms/step - loss: 0.6045 - accuracy: 0.1998\n",
      "Epoch 200/200\n",
      "876/876 [==============================] - 2s 3ms/step - loss: 0.6045 - accuracy: 0.2004\n"
     ]
    },
    {
     "data": {
      "text/plain": [
       "<keras.callbacks.History at 0x1713fed20a0>"
      ]
     },
     "execution_count": 42,
     "metadata": {},
     "output_type": "execute_result"
    }
   ],
   "source": [
    "# Compile the model\n",
    "model.compile(optimizer='rmsprop', loss='mae', metrics=['accuracy'])\n",
    "\n",
    "# Train the model\n",
    "model.fit(x_train,y_train,epochs=200,batch_size=100)"
   ]
  },
  {
   "cell_type": "code",
   "execution_count": 43,
   "id": "541f75ba",
   "metadata": {},
   "outputs": [
    {
     "name": "stdout",
     "output_type": "stream",
     "text": [
      "685/685 [==============================] - 1s 1ms/step - loss: 0.6047 - accuracy: 0.8276\n",
      "Accuracy: 0.8276082873344421\n"
     ]
    }
   ],
   "source": [
    "# Test the model\n",
    "loss, accuracy = model.evaluate(x_test,y_test)\n",
    "print(f\"Accuracy: {accuracy}\")"
   ]
  },
  {
   "cell_type": "code",
   "execution_count": 28,
   "id": "b085efe8",
   "metadata": {},
   "outputs": [],
   "source": [
    "# # Plot the training history\n",
    "# loss = history.history['loss']\n",
    "# val_loss = history.history['val_loss']\n",
    "\n",
    "# epochs = range(1, len(loss) + 1)\n",
    "\n",
    "# plt.plot(epochs, loss, 'bo', label='Training loss')\n",
    "# plt.plot(epochs, val_loss, 'b', label='Validation loss')\n",
    "# plt.title('Training and validation loss')\n",
    "# plt.legend()\n",
    "# plt.show()"
   ]
  },
  {
   "cell_type": "code",
   "execution_count": 29,
   "id": "3cc3f505",
   "metadata": {},
   "outputs": [],
   "source": [
    "# # Plot predictions against actual values\n",
    "# predictions = model.predict(x_test)\n",
    "\n",
    "# plt.clf()\n",
    "# plt.title(\"Comparison of predictions to actual values\")\n",
    "# plt.plot(x_test, y_test, 'b.', label='Actual')\n",
    "# plt.plot(x_test, predictions, 'r.', label='Prediction')\n",
    "# plt.legend()\n",
    "# plt.show()"
   ]
  },
  {
   "cell_type": "code",
   "execution_count": 44,
   "id": "69563eb0",
   "metadata": {},
   "outputs": [
    {
     "name": "stderr",
     "output_type": "stream",
     "text": [
      "WARNING:absl:Optimization option OPTIMIZE_FOR_SIZE is deprecated, please use optimizations=[Optimize.DEFAULT] instead.\n"
     ]
    },
    {
     "name": "stdout",
     "output_type": "stream",
     "text": [
      "INFO:tensorflow:Assets written to: C:\\Users\\homer\\AppData\\Local\\Temp\\tmpglbkwzjv\\assets\n"
     ]
    },
    {
     "name": "stderr",
     "output_type": "stream",
     "text": [
      "INFO:tensorflow:Assets written to: C:\\Users\\homer\\AppData\\Local\\Temp\\tmpglbkwzjv\\assets\n",
      "WARNING:absl:Optimization option OPTIMIZE_FOR_SIZE is deprecated, please use optimizations=[Optimize.DEFAULT] instead.\n",
      "WARNING:absl:Optimization option OPTIMIZE_FOR_SIZE is deprecated, please use optimizations=[Optimize.DEFAULT] instead.\n"
     ]
    },
    {
     "data": {
      "text/plain": [
       "28576"
      ]
     },
     "execution_count": 44,
     "metadata": {},
     "output_type": "execute_result"
    }
   ],
   "source": [
    "tflite_model_name = 'homeros_model'  # Will be given .tflite suffix\n",
    "c_model_name = 'homeros_c_model'       # Will be given .h suffix\n",
    "\n",
    "# Convert Keras model to a tflite model\n",
    "converter = tf.lite.TFLiteConverter.from_keras_model(model)\n",
    "converter.optimizations = [tf.lite.Optimize.OPTIMIZE_FOR_SIZE]\n",
    "tflite_model = converter.convert()\n",
    "\n",
    "open(tflite_model_name + '.tflite', 'wb').write(tflite_model)"
   ]
  },
  {
   "cell_type": "code",
   "execution_count": 45,
   "id": "2c1e692b",
   "metadata": {},
   "outputs": [],
   "source": [
    "# Function: Convert some hex value into an array for C programming\n",
    "def hex_to_c_array(hex_data, var_name):\n",
    "\n",
    "  c_str = ''\n",
    "\n",
    "  # Create header guard\n",
    "  c_str += '#ifndef ' + var_name.upper() + '_H\\n'\n",
    "  c_str += '#define ' + var_name.upper() + '_H\\n\\n'\n",
    "\n",
    "  # Add array length at top of file\n",
    "  c_str += '\\nunsigned int ' + var_name + '_len = ' + str(len(hex_data)) + ';\\n'\n",
    "\n",
    "  # Declare C variable\n",
    "  c_str += 'unsigned char ' + var_name + '[] = {'\n",
    "  hex_array = []\n",
    "  for i, val in enumerate(hex_data) :\n",
    "\n",
    "    # Construct string from hex\n",
    "    hex_str = format(val, '#04x')\n",
    "\n",
    "    # Add formatting so each line stays within 80 characters\n",
    "    if (i + 1) < len(hex_data):\n",
    "      hex_str += ','\n",
    "    if (i + 1) % 12 == 0:\n",
    "      hex_str += '\\n '\n",
    "    hex_array.append(hex_str)\n",
    "\n",
    "  # Add closing brace\n",
    "  c_str += '\\n ' + format(' '.join(hex_array)) + '\\n};\\n\\n'\n",
    "\n",
    "  # Close out header guard\n",
    "  c_str += '#endif //' + var_name.upper() + '_H'\n",
    "\n",
    "  return c_str"
   ]
  },
  {
   "cell_type": "code",
   "execution_count": 46,
   "id": "808d3c33",
   "metadata": {},
   "outputs": [],
   "source": [
    "# Write TFLite model to a C source (or header) file\n",
    "with open(c_model_name + '.h', 'w') as file:\n",
    "  file.write(hex_to_c_array(tflite_model, c_model_name))"
   ]
  },
  {
   "cell_type": "code",
   "execution_count": null,
   "id": "e80fcaa4-6261-4204-acce-9dfc65c4ba53",
   "metadata": {},
   "outputs": [],
   "source": []
  }
 ],
 "metadata": {
  "kernelspec": {
   "display_name": "Python 3 (ipykernel)",
   "language": "python",
   "name": "python3"
  },
  "language_info": {
   "codemirror_mode": {
    "name": "ipython",
    "version": 3
   },
   "file_extension": ".py",
   "mimetype": "text/x-python",
   "name": "python",
   "nbconvert_exporter": "python",
   "pygments_lexer": "ipython3",
   "version": "3.7.16"
  }
 },
 "nbformat": 4,
 "nbformat_minor": 5
}
